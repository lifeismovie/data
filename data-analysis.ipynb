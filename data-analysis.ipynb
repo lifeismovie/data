{
 "cells": [
  {
   "cell_type": "markdown",
   "metadata": {},
   "source": [
    "# 概要"
   ]
  },
  {
   "cell_type": "markdown",
   "metadata": {},
   "source": [
    "![jupyter](./思维导图.png)"
   ]
  },
  {
   "cell_type": "markdown",
   "metadata": {},
   "source": [
    "- 基于上述思维导图，案例分析顺序为‘车金融项目重要指标概览’、‘渠道名单数量分析’、‘渠道名单质量分析’、‘通话时长分析’、‘通话次数分析’、‘风控周期波动性分析’、‘直属门店分析’；\n",
    "- 此篇记录详尽记录代码细节及分析思路；\n"
   ]
  },
  {
   "cell_type": "markdown",
   "metadata": {},
   "source": [
    "# 一、数据加载及清洗"
   ]
  },
  {
   "cell_type": "markdown",
   "metadata": {},
   "source": [
    "## 数据加载&预览"
   ]
  },
  {
   "cell_type": "code",
   "execution_count": 5,
   "metadata": {
    "scrolled": true
   },
   "outputs": [
    {
     "data": {
      "text/html": [
       "<div>\n",
       "<style scoped>\n",
       "    .dataframe tbody tr th:only-of-type {\n",
       "        vertical-align: middle;\n",
       "    }\n",
       "\n",
       "    .dataframe tbody tr th {\n",
       "        vertical-align: top;\n",
       "    }\n",
       "\n",
       "    .dataframe thead th {\n",
       "        text-align: right;\n",
       "    }\n",
       "</style>\n",
       "<table border=\"1\" class=\"dataframe\">\n",
       "  <thead>\n",
       "    <tr style=\"text-align: right;\">\n",
       "      <th></th>\n",
       "      <th>渠道来源</th>\n",
       "      <th>ID</th>\n",
       "      <th>是否申请验车</th>\n",
       "      <th>所在省</th>\n",
       "      <th>所在市</th>\n",
       "      <th>所在地区</th>\n",
       "      <th>省</th>\n",
       "      <th>市</th>\n",
       "      <th>姓名</th>\n",
       "      <th>脱敏手机号</th>\n",
       "      <th>借款人uid</th>\n",
       "      <th>初始额度</th>\n",
       "      <th>日利率</th>\n",
       "      <th>申请时间</th>\n",
       "      <th>失效时间</th>\n",
       "      <th>分配时间</th>\n",
       "      <th>坐席名字</th>\n",
       "      <th>坐席uid</th>\n",
       "      <th>小组名称</th>\n",
       "      <th>部门名称</th>\n",
       "      <th>订单状态</th>\n",
       "      <th>当前状态</th>\n",
       "      <th>邀约结果</th>\n",
       "      <th>派单时间</th>\n",
       "      <th>派单省份</th>\n",
       "      <th>派单城市</th>\n",
       "      <th>派单门店</th>\n",
       "      <th>门店退回时间</th>\n",
       "      <th>是否按揭</th>\n",
       "      <th>预约到店时间</th>\n",
       "      <th>到店时间</th>\n",
       "      <th>门店提交初审时间</th>\n",
       "      <th>终审通过时间</th>\n",
       "      <th>终审额度</th>\n",
       "      <th>提款成功时间</th>\n",
       "      <th>放款金额</th>\n",
       "      <th>放款门店</th>\n",
       "      <th>数据累计通次</th>\n",
       "      <th>数据累计接通通次</th>\n",
       "      <th>数据累计有效通次</th>\n",
       "      <th>数据累计通时</th>\n",
       "      <th>当天通次</th>\n",
       "      <th>当天接通通次</th>\n",
       "      <th>当天有效通次</th>\n",
       "      <th>当天通时</th>\n",
       "      <th>近3日通次</th>\n",
       "      <th>近3日接通通次</th>\n",
       "      <th>近3日通时</th>\n",
       "      <th>近7日通次</th>\n",
       "      <th>近7日接通通次</th>\n",
       "      <th>近7日通时</th>\n",
       "      <th>近15日通次</th>\n",
       "      <th>近15日接通通次</th>\n",
       "      <th>近15日通时</th>\n",
       "      <th>本月累计通次</th>\n",
       "      <th>本月累计接通通次</th>\n",
       "      <th>本月累计通时</th>\n",
       "    </tr>\n",
       "  </thead>\n",
       "  <tbody>\n",
       "    <tr>\n",
       "      <th>0</th>\n",
       "      <td>借呗</td>\n",
       "      <td>201907030711260045A</td>\n",
       "      <td>是</td>\n",
       "      <td>四川省</td>\n",
       "      <td>成都市</td>\n",
       "      <td>龙泉驿区</td>\n",
       "      <td>四川省</td>\n",
       "      <td>成都市</td>\n",
       "      <td>段岳朋</td>\n",
       "      <td>136****2373</td>\n",
       "      <td>23107879</td>\n",
       "      <td>58000.0</td>\n",
       "      <td>0.0</td>\n",
       "      <td>2019-07-31 22:58:17.0</td>\n",
       "      <td>2019-08-02 14:50:03.0</td>\n",
       "      <td>NaN</td>\n",
       "      <td>NaN</td>\n",
       "      <td>0</td>\n",
       "      <td>NaN</td>\n",
       "      <td>NaN</td>\n",
       "      <td>其他</td>\n",
       "      <td>默认</td>\n",
       "      <td>NaN</td>\n",
       "      <td>NaN</td>\n",
       "      <td>NaN</td>\n",
       "      <td>NaN</td>\n",
       "      <td>NaN</td>\n",
       "      <td>NaN</td>\n",
       "      <td>未知</td>\n",
       "      <td>NaN</td>\n",
       "      <td>NaN</td>\n",
       "      <td>NaN</td>\n",
       "      <td>NaN</td>\n",
       "      <td>0.0</td>\n",
       "      <td>NaN</td>\n",
       "      <td>0.0</td>\n",
       "      <td>NaN</td>\n",
       "      <td>NaN</td>\n",
       "      <td>NaN</td>\n",
       "      <td>NaN</td>\n",
       "      <td>NaN</td>\n",
       "      <td>NaN</td>\n",
       "      <td>NaN</td>\n",
       "      <td>NaN</td>\n",
       "      <td>NaN</td>\n",
       "      <td>NaN</td>\n",
       "      <td>NaN</td>\n",
       "      <td>NaN</td>\n",
       "      <td>NaN</td>\n",
       "      <td>NaN</td>\n",
       "      <td>NaN</td>\n",
       "      <td>NaN</td>\n",
       "      <td>NaN</td>\n",
       "      <td>NaN</td>\n",
       "      <td>NaN</td>\n",
       "      <td>NaN</td>\n",
       "      <td>NaN</td>\n",
       "    </tr>\n",
       "    <tr>\n",
       "      <th>1</th>\n",
       "      <td>借呗</td>\n",
       "      <td>201907140702858290A</td>\n",
       "      <td>是</td>\n",
       "      <td>NaN</td>\n",
       "      <td>NaN</td>\n",
       "      <td>NaN</td>\n",
       "      <td>贵州省</td>\n",
       "      <td>铜仁市</td>\n",
       "      <td>谭红通</td>\n",
       "      <td>175****1995</td>\n",
       "      <td>19584558</td>\n",
       "      <td>85000.0</td>\n",
       "      <td>0.0</td>\n",
       "      <td>2019-07-31 22:56:35.0</td>\n",
       "      <td>2019-08-13 22:34:32.0</td>\n",
       "      <td>2019-02-16 01:46:22.0</td>\n",
       "      <td>俞嘉杰</td>\n",
       "      <td>14889211</td>\n",
       "      <td>二组-借呗客服</td>\n",
       "      <td>客服</td>\n",
       "      <td>其他</td>\n",
       "      <td>未联系</td>\n",
       "      <td>未接通</td>\n",
       "      <td>NaN</td>\n",
       "      <td>NaN</td>\n",
       "      <td>NaN</td>\n",
       "      <td>NaN</td>\n",
       "      <td>NaN</td>\n",
       "      <td>未知</td>\n",
       "      <td>NaN</td>\n",
       "      <td>NaN</td>\n",
       "      <td>NaN</td>\n",
       "      <td>NaN</td>\n",
       "      <td>0.0</td>\n",
       "      <td>NaN</td>\n",
       "      <td>0.0</td>\n",
       "      <td>NaN</td>\n",
       "      <td>3.0</td>\n",
       "      <td>1.0</td>\n",
       "      <td>1.0</td>\n",
       "      <td>51.0</td>\n",
       "      <td>NaN</td>\n",
       "      <td>NaN</td>\n",
       "      <td>NaN</td>\n",
       "      <td>NaN</td>\n",
       "      <td>NaN</td>\n",
       "      <td>NaN</td>\n",
       "      <td>NaN</td>\n",
       "      <td>NaN</td>\n",
       "      <td>NaN</td>\n",
       "      <td>NaN</td>\n",
       "      <td>NaN</td>\n",
       "      <td>NaN</td>\n",
       "      <td>NaN</td>\n",
       "      <td>NaN</td>\n",
       "      <td>NaN</td>\n",
       "      <td>NaN</td>\n",
       "    </tr>\n",
       "    <tr>\n",
       "      <th>2</th>\n",
       "      <td>借呗</td>\n",
       "      <td>201907130717726257A</td>\n",
       "      <td>是</td>\n",
       "      <td>新疆维吾尔自治区</td>\n",
       "      <td>伊犁哈萨克自治州</td>\n",
       "      <td>伊宁市</td>\n",
       "      <td>新疆维吾尔自治区</td>\n",
       "      <td>伊犁哈萨克自治州</td>\n",
       "      <td>袁新兰</td>\n",
       "      <td>180****2029</td>\n",
       "      <td>23106315</td>\n",
       "      <td>68000.0</td>\n",
       "      <td>0.0</td>\n",
       "      <td>2019-07-31 18:44:46.0</td>\n",
       "      <td>2019-08-12 11:26:20.0</td>\n",
       "      <td>NaN</td>\n",
       "      <td>NaN</td>\n",
       "      <td>0</td>\n",
       "      <td>NaN</td>\n",
       "      <td>NaN</td>\n",
       "      <td>其他</td>\n",
       "      <td>默认</td>\n",
       "      <td>NaN</td>\n",
       "      <td>NaN</td>\n",
       "      <td>NaN</td>\n",
       "      <td>NaN</td>\n",
       "      <td>NaN</td>\n",
       "      <td>NaN</td>\n",
       "      <td>未知</td>\n",
       "      <td>NaN</td>\n",
       "      <td>NaN</td>\n",
       "      <td>NaN</td>\n",
       "      <td>NaN</td>\n",
       "      <td>0.0</td>\n",
       "      <td>NaN</td>\n",
       "      <td>0.0</td>\n",
       "      <td>NaN</td>\n",
       "      <td>NaN</td>\n",
       "      <td>NaN</td>\n",
       "      <td>NaN</td>\n",
       "      <td>NaN</td>\n",
       "      <td>NaN</td>\n",
       "      <td>NaN</td>\n",
       "      <td>NaN</td>\n",
       "      <td>NaN</td>\n",
       "      <td>NaN</td>\n",
       "      <td>NaN</td>\n",
       "      <td>NaN</td>\n",
       "      <td>NaN</td>\n",
       "      <td>NaN</td>\n",
       "      <td>NaN</td>\n",
       "      <td>NaN</td>\n",
       "      <td>NaN</td>\n",
       "      <td>NaN</td>\n",
       "      <td>NaN</td>\n",
       "      <td>NaN</td>\n",
       "      <td>NaN</td>\n",
       "    </tr>\n",
       "    <tr>\n",
       "      <th>3</th>\n",
       "      <td>借呗</td>\n",
       "      <td>201907070700827415A</td>\n",
       "      <td>是</td>\n",
       "      <td>浙江省</td>\n",
       "      <td>杭州市</td>\n",
       "      <td>余杭区</td>\n",
       "      <td>浙江省</td>\n",
       "      <td>杭州市</td>\n",
       "      <td>徐晓波</td>\n",
       "      <td>139****3948</td>\n",
       "      <td>23106163</td>\n",
       "      <td>94000.0</td>\n",
       "      <td>0.0</td>\n",
       "      <td>2019-07-31 18:29:01.0</td>\n",
       "      <td>2019-08-06 21:06:33.0</td>\n",
       "      <td>NaN</td>\n",
       "      <td>NaN</td>\n",
       "      <td>0</td>\n",
       "      <td>NaN</td>\n",
       "      <td>NaN</td>\n",
       "      <td>其他</td>\n",
       "      <td>默认</td>\n",
       "      <td>NaN</td>\n",
       "      <td>NaN</td>\n",
       "      <td>NaN</td>\n",
       "      <td>NaN</td>\n",
       "      <td>NaN</td>\n",
       "      <td>NaN</td>\n",
       "      <td>未知</td>\n",
       "      <td>NaN</td>\n",
       "      <td>NaN</td>\n",
       "      <td>NaN</td>\n",
       "      <td>NaN</td>\n",
       "      <td>0.0</td>\n",
       "      <td>NaN</td>\n",
       "      <td>0.0</td>\n",
       "      <td>NaN</td>\n",
       "      <td>NaN</td>\n",
       "      <td>NaN</td>\n",
       "      <td>NaN</td>\n",
       "      <td>NaN</td>\n",
       "      <td>NaN</td>\n",
       "      <td>NaN</td>\n",
       "      <td>NaN</td>\n",
       "      <td>NaN</td>\n",
       "      <td>NaN</td>\n",
       "      <td>NaN</td>\n",
       "      <td>NaN</td>\n",
       "      <td>NaN</td>\n",
       "      <td>NaN</td>\n",
       "      <td>NaN</td>\n",
       "      <td>NaN</td>\n",
       "      <td>NaN</td>\n",
       "      <td>NaN</td>\n",
       "      <td>NaN</td>\n",
       "      <td>NaN</td>\n",
       "      <td>NaN</td>\n",
       "    </tr>\n",
       "    <tr>\n",
       "      <th>4</th>\n",
       "      <td>借呗</td>\n",
       "      <td>201907030688664001A</td>\n",
       "      <td>是</td>\n",
       "      <td>福建省</td>\n",
       "      <td>泉州市</td>\n",
       "      <td>晋江市</td>\n",
       "      <td>福建省</td>\n",
       "      <td>泉州市</td>\n",
       "      <td>王焕发</td>\n",
       "      <td>136****7555</td>\n",
       "      <td>22527292</td>\n",
       "      <td>159000.0</td>\n",
       "      <td>0.0</td>\n",
       "      <td>2019-07-31 18:23:59.0</td>\n",
       "      <td>2019-08-02 16:42:26.0</td>\n",
       "      <td>NaN</td>\n",
       "      <td>NaN</td>\n",
       "      <td>0</td>\n",
       "      <td>NaN</td>\n",
       "      <td>NaN</td>\n",
       "      <td>其他</td>\n",
       "      <td>默认</td>\n",
       "      <td>NaN</td>\n",
       "      <td>NaN</td>\n",
       "      <td>NaN</td>\n",
       "      <td>NaN</td>\n",
       "      <td>NaN</td>\n",
       "      <td>NaN</td>\n",
       "      <td>未知</td>\n",
       "      <td>NaN</td>\n",
       "      <td>NaN</td>\n",
       "      <td>NaN</td>\n",
       "      <td>NaN</td>\n",
       "      <td>0.0</td>\n",
       "      <td>NaN</td>\n",
       "      <td>0.0</td>\n",
       "      <td>NaN</td>\n",
       "      <td>3.0</td>\n",
       "      <td>3.0</td>\n",
       "      <td>3.0</td>\n",
       "      <td>283.0</td>\n",
       "      <td>NaN</td>\n",
       "      <td>NaN</td>\n",
       "      <td>NaN</td>\n",
       "      <td>NaN</td>\n",
       "      <td>NaN</td>\n",
       "      <td>NaN</td>\n",
       "      <td>NaN</td>\n",
       "      <td>NaN</td>\n",
       "      <td>NaN</td>\n",
       "      <td>NaN</td>\n",
       "      <td>NaN</td>\n",
       "      <td>NaN</td>\n",
       "      <td>NaN</td>\n",
       "      <td>3.0</td>\n",
       "      <td>3.0</td>\n",
       "      <td>283.0</td>\n",
       "    </tr>\n",
       "  </tbody>\n",
       "</table>\n",
       "</div>"
      ],
      "text/plain": [
       "  渠道来源                   ID 是否申请验车       所在省       所在市  所在地区         省  \\\n",
       "0   借呗  201907030711260045A      是       四川省       成都市  龙泉驿区       四川省   \n",
       "1   借呗  201907140702858290A      是       NaN       NaN   NaN       贵州省   \n",
       "2   借呗  201907130717726257A      是  新疆维吾尔自治区  伊犁哈萨克自治州   伊宁市  新疆维吾尔自治区   \n",
       "3   借呗  201907070700827415A      是       浙江省       杭州市   余杭区       浙江省   \n",
       "4   借呗  201907030688664001A      是       福建省       泉州市   晋江市       福建省   \n",
       "\n",
       "          市   姓名        脱敏手机号    借款人uid      初始额度  日利率                   申请时间  \\\n",
       "0       成都市  段岳朋  136****2373  23107879   58000.0  0.0  2019-07-31 22:58:17.0   \n",
       "1       铜仁市  谭红通  175****1995  19584558   85000.0  0.0  2019-07-31 22:56:35.0   \n",
       "2  伊犁哈萨克自治州  袁新兰  180****2029  23106315   68000.0  0.0  2019-07-31 18:44:46.0   \n",
       "3       杭州市  徐晓波  139****3948  23106163   94000.0  0.0  2019-07-31 18:29:01.0   \n",
       "4       泉州市  王焕发  136****7555  22527292  159000.0  0.0  2019-07-31 18:23:59.0   \n",
       "\n",
       "                    失效时间                   分配时间 坐席名字     坐席uid     小组名称 部门名称  \\\n",
       "0  2019-08-02 14:50:03.0                    NaN  NaN         0      NaN  NaN   \n",
       "1  2019-08-13 22:34:32.0  2019-02-16 01:46:22.0  俞嘉杰  14889211  二组-借呗客服   客服   \n",
       "2  2019-08-12 11:26:20.0                    NaN  NaN         0      NaN  NaN   \n",
       "3  2019-08-06 21:06:33.0                    NaN  NaN         0      NaN  NaN   \n",
       "4  2019-08-02 16:42:26.0                    NaN  NaN         0      NaN  NaN   \n",
       "\n",
       "  订单状态 当前状态 邀约结果 派单时间 派单省份 派单城市 派单门店 门店退回时间 是否按揭 预约到店时间 到店时间 门店提交初审时间 终审通过时间  \\\n",
       "0   其他   默认  NaN  NaN  NaN  NaN  NaN    NaN   未知    NaN  NaN      NaN    NaN   \n",
       "1   其他  未联系  未接通  NaN  NaN  NaN  NaN    NaN   未知    NaN  NaN      NaN    NaN   \n",
       "2   其他   默认  NaN  NaN  NaN  NaN  NaN    NaN   未知    NaN  NaN      NaN    NaN   \n",
       "3   其他   默认  NaN  NaN  NaN  NaN  NaN    NaN   未知    NaN  NaN      NaN    NaN   \n",
       "4   其他   默认  NaN  NaN  NaN  NaN  NaN    NaN   未知    NaN  NaN      NaN    NaN   \n",
       "\n",
       "   终审额度 提款成功时间  放款金额 放款门店  数据累计通次  数据累计接通通次  数据累计有效通次  数据累计通时    当天通次  当天接通通次  \\\n",
       "0   0.0    NaN   0.0  NaN     NaN       NaN       NaN       NaN   NaN     NaN   \n",
       "1   0.0    NaN   0.0  NaN     3.0       1.0       1.0      51.0   NaN     NaN   \n",
       "2   0.0    NaN   0.0  NaN     NaN       NaN       NaN       NaN   NaN     NaN   \n",
       "3   0.0    NaN   0.0  NaN     NaN       NaN       NaN       NaN   NaN     NaN   \n",
       "4   0.0    NaN   0.0  NaN     3.0       3.0       3.0     283.0   NaN     NaN   \n",
       "\n",
       "   当天有效通次  当天通时  近3日通次  近3日接通通次  近3日通时  近7日通次  近7日接通通次  近7日通时  近15日通次  \\\n",
       "0     NaN   NaN    NaN      NaN    NaN    NaN      NaN    NaN     NaN   \n",
       "1     NaN   NaN    NaN      NaN    NaN    NaN      NaN    NaN     NaN   \n",
       "2     NaN   NaN    NaN      NaN    NaN    NaN      NaN    NaN     NaN   \n",
       "3     NaN   NaN    NaN      NaN    NaN    NaN      NaN    NaN     NaN   \n",
       "4     NaN   NaN    NaN      NaN    NaN    NaN      NaN    NaN     NaN   \n",
       "\n",
       "   近15日接通通次  近15日通时  本月累计通次  本月累计接通通次  本月累计通时  \n",
       "0       NaN     NaN     NaN       NaN     NaN  \n",
       "1       NaN     NaN     NaN       NaN     NaN  \n",
       "2       NaN     NaN     NaN       NaN     NaN  \n",
       "3       NaN     NaN     NaN       NaN     NaN  \n",
       "4       NaN     NaN     3.0       3.0   283.0  "
      ]
     },
     "execution_count": 5,
     "metadata": {},
     "output_type": "execute_result"
    }
   ],
   "source": [
    "import pandas as pd # 数据处理包\n",
    "import numpy as np # 向量、矩阵运算包\n",
    "import matplotlib.pyplot as plt # 作图包\n",
    "\n",
    "df = pd.read_excel(r'E:\\迅雷下载\\借呗京东数据每日追踪明细-新_20190731.xlsx') # 加载mysql数据到内存\n",
    "pd.set_option('display.max_columns', None) # 显示所有列\n",
    "df.head() #预览数据前五行"
   ]
  },
  {
   "cell_type": "markdown",
   "metadata": {},
   "source": [
    "##  数据清洗"
   ]
  },
  {
   "cell_type": "markdown",
   "metadata": {},
   "source": [
    "- 预览可知部分列对当前分析无意义，需删除；"
   ]
  },
  {
   "cell_type": "code",
   "execution_count": 6,
   "metadata": {},
   "outputs": [
    {
     "data": {
      "text/plain": [
       "(231281, 57)"
      ]
     },
     "execution_count": 6,
     "metadata": {},
     "output_type": "execute_result"
    }
   ],
   "source": [
    "df.shape # 查看原始行列数"
   ]
  },
  {
   "cell_type": "code",
   "execution_count": 7,
   "metadata": {},
   "outputs": [
    {
     "data": {
      "text/plain": [
       "(231281, 24)"
      ]
     },
     "execution_count": 7,
     "metadata": {},
     "output_type": "execute_result"
    }
   ],
   "source": [
    "drop_columns = [ '渠道来源','是否申请验车','脱敏手机号','日利率','失效时间','是否按揭','订单状态','当前状态','邀约结果','派单时间','派单省份','派单城市','派单门店','预约到店时间','到店时间','提款成功时间','放款门店','当天通次', '当天接通通次', '当天有效通次', '当天通时', '近3日通次', '近3日接通通次', '近3日通时','近7日通次', '近7日接通通次', '近7日通时', '近15日通次', '近15日接通通次', '近15日通时', '本月累计通次', '本月累计接通通次', '本月累计通时']\n",
    "df.drop(drop_columns,inplace=True,axis=1) # 删除列；变量drop_columns为需要删除字段的列表（list）\n",
    "df.shape # 查看修改后行列数"
   ]
  },
  {
   "cell_type": "markdown",
   "metadata": {},
   "source": [
    "- 预览可知数据集有缺失、空值，需处理；"
   ]
  },
  {
   "cell_type": "code",
   "execution_count": 8,
   "metadata": {},
   "outputs": [],
   "source": [
    "df.replace('',np.nan,inplace=True) # 将空格值替换成np.nan统一进行空值处理；\n",
    "df.replace(r'\\s+', np.nan, regex=True,inplace=True)# 将空格值替换成np.nan统一进行空值处理；参数regex=True启用正则；"
   ]
  },
  {
   "cell_type": "markdown",
   "metadata": {},
   "source": [
    "注：基于数据集理解可把所有空值简单替换成数值0；具体数据集具体分析空值处理"
   ]
  },
  {
   "cell_type": "code",
   "execution_count": 9,
   "metadata": {},
   "outputs": [],
   "source": [
    "df = df.fillna(0) # 将所有空值替换为数值0；"
   ]
  },
  {
   "cell_type": "code",
   "execution_count": 10,
   "metadata": {},
   "outputs": [],
   "source": [
    "df.rename(columns={'数据累计通时  ': '数据累计通时'},inplace=True) # 修改列名；列名含有空格"
   ]
  },
  {
   "cell_type": "markdown",
   "metadata": {},
   "source": [
    "- 预览可知数据集有异常值，需处理；"
   ]
  },
  {
   "cell_type": "code",
   "execution_count": 11,
   "metadata": {},
   "outputs": [
    {
     "data": {
      "text/html": [
       "<div>\n",
       "<style scoped>\n",
       "    .dataframe tbody tr th:only-of-type {\n",
       "        vertical-align: middle;\n",
       "    }\n",
       "\n",
       "    .dataframe tbody tr th {\n",
       "        vertical-align: top;\n",
       "    }\n",
       "\n",
       "    .dataframe thead th {\n",
       "        text-align: right;\n",
       "    }\n",
       "</style>\n",
       "<table border=\"1\" class=\"dataframe\">\n",
       "  <thead>\n",
       "    <tr style=\"text-align: right;\">\n",
       "      <th></th>\n",
       "      <th>ID</th>\n",
       "      <th>所在省</th>\n",
       "      <th>所在市</th>\n",
       "      <th>所在地区</th>\n",
       "      <th>省</th>\n",
       "      <th>市</th>\n",
       "      <th>姓名</th>\n",
       "      <th>借款人uid</th>\n",
       "      <th>初始额度</th>\n",
       "      <th>申请时间</th>\n",
       "      <th>分配时间</th>\n",
       "      <th>坐席名字</th>\n",
       "      <th>坐席uid</th>\n",
       "      <th>小组名称</th>\n",
       "      <th>部门名称</th>\n",
       "      <th>门店退回时间</th>\n",
       "      <th>门店提交初审时间</th>\n",
       "      <th>终审通过时间</th>\n",
       "      <th>终审额度</th>\n",
       "      <th>放款金额</th>\n",
       "      <th>数据累计通次</th>\n",
       "      <th>数据累计接通通次</th>\n",
       "      <th>数据累计有效通次</th>\n",
       "      <th>数据累计通时</th>\n",
       "    </tr>\n",
       "  </thead>\n",
       "  <tbody>\n",
       "    <tr>\n",
       "      <th>181228</th>\n",
       "      <td>201901010447544001A</td>\n",
       "      <td>上海市</td>\n",
       "      <td>上海市</td>\n",
       "      <td>浦东新区</td>\n",
       "      <td>江苏省</td>\n",
       "      <td>苏州市</td>\n",
       "      <td>高九龙</td>\n",
       "      <td>18197932</td>\n",
       "      <td>81000.0</td>\n",
       "      <td>0.0</td>\n",
       "      <td>0.0</td>\n",
       "      <td>谷俊远</td>\n",
       "      <td>14522914</td>\n",
       "      <td>二组-借呗客服</td>\n",
       "      <td>客服</td>\n",
       "      <td>0.0</td>\n",
       "      <td>0.0</td>\n",
       "      <td>0.0</td>\n",
       "      <td>0.0</td>\n",
       "      <td>0.0</td>\n",
       "      <td>4.0</td>\n",
       "      <td>1.0</td>\n",
       "      <td>1.0</td>\n",
       "      <td>-173.0</td>\n",
       "    </tr>\n",
       "  </tbody>\n",
       "</table>\n",
       "</div>"
      ],
      "text/plain": [
       "                         ID  所在省  所在市  所在地区    省    市   姓名    借款人uid     初始额度  \\\n",
       "181228  201901010447544001A  上海市  上海市  浦东新区  江苏省  苏州市  高九龙  18197932  81000.0   \n",
       "\n",
       "        申请时间  分配时间 坐席名字     坐席uid     小组名称 部门名称  门店退回时间  门店提交初审时间  终审通过时间  \\\n",
       "181228   0.0   0.0  谷俊远  14522914  二组-借呗客服   客服     0.0       0.0     0.0   \n",
       "\n",
       "        终审额度  放款金额  数据累计通次  数据累计接通通次  数据累计有效通次  数据累计通时  \n",
       "181228   0.0   0.0     4.0       1.0       1.0  -173.0  "
      ]
     },
     "execution_count": 11,
     "metadata": {},
     "output_type": "execute_result"
    }
   ],
   "source": [
    "df[((df['放款金额']<20000)&(df['放款金额']>0))|((df['数据累计通次']<0)|(df['数据累计接通通次']<0)|(df['数据累计接通通次']<0)|(df['数据累计有效通次']<0)|(df['数据累计通时']<0))]\n",
    "# 检测异常值"
   ]
  },
  {
   "cell_type": "code",
   "execution_count": 12,
   "metadata": {},
   "outputs": [],
   "source": [
    "df.loc[df['ID']=='201901010447544001A','数据累计通时'] = 45 # 将异常值赋值为正常值"
   ]
  },
  {
   "cell_type": "markdown",
   "metadata": {},
   "source": [
    "- 防止数据集'ID'列有重复值，需处理；"
   ]
  },
  {
   "cell_type": "code",
   "execution_count": 13,
   "metadata": {},
   "outputs": [
    {
     "data": {
      "text/plain": [
       "(231281, 24)"
      ]
     },
     "execution_count": 13,
     "metadata": {},
     "output_type": "execute_result"
    }
   ],
   "source": [
    "df.shape # 查看原始行列数"
   ]
  },
  {
   "cell_type": "code",
   "execution_count": 14,
   "metadata": {},
   "outputs": [
    {
     "data": {
      "text/plain": [
       "(231281, 24)"
      ]
     },
     "execution_count": 14,
     "metadata": {},
     "output_type": "execute_result"
    }
   ],
   "source": [
    "df.drop_duplicates(subset='ID') # 删除含有重复值的行，基于‘ID’字段；参数subset指定基于哪个字段删除重复行\n",
    "df.shape # 查看修改后行列数"
   ]
  },
  {
   "cell_type": "markdown",
   "metadata": {},
   "source": [
    "- 重设索引，索引为Pandas默认，需重设为‘ID’字段为索引；注：索引唯一性，需先去重，空、缺失值处理；"
   ]
  },
  {
   "cell_type": "code",
   "execution_count": 15,
   "metadata": {},
   "outputs": [],
   "source": [
    "df.set_index('ID',inplace=True) # 更改索引"
   ]
  },
  {
   "cell_type": "markdown",
   "metadata": {},
   "source": [
    "- 防止str类型值中含有空格，需处理"
   ]
  },
  {
   "cell_type": "code",
   "execution_count": 19,
   "metadata": {},
   "outputs": [],
   "source": [
    "str_columns = ['所在省', '所在市', '所在地区', '省', '市', '姓名', '坐席名字','小组名称', '部门名称']\n",
    "# 需要去除str类型值含有\n",
    "\n",
    "for i in str_columns: # fro循环遍历去除str类型值中含有的空格\n",
    "    df['%s'%(i)].str.strip()"
   ]
  },
  {
   "cell_type": "markdown",
   "metadata": {},
   "source": [
    "- 查看列的类型，合理更正。"
   ]
  },
  {
   "cell_type": "code",
   "execution_count": 20,
   "metadata": {},
   "outputs": [
    {
     "name": "stdout",
     "output_type": "stream",
     "text": [
      "<class 'pandas.core.frame.DataFrame'>\n",
      "Index: 231281 entries, 201907030711260045A to TEST_SN_20180702_001\n",
      "Data columns (total 23 columns):\n",
      "所在省         231281 non-null object\n",
      "所在市         231281 non-null object\n",
      "所在地区        231281 non-null object\n",
      "省           231281 non-null object\n",
      "市           231281 non-null object\n",
      "姓名          231281 non-null object\n",
      "借款人uid      231281 non-null int64\n",
      "初始额度        231281 non-null float64\n",
      "申请时间        231281 non-null float64\n",
      "分配时间        231281 non-null float64\n",
      "坐席名字        231281 non-null object\n",
      "坐席uid       231281 non-null int64\n",
      "小组名称        231281 non-null object\n",
      "部门名称        231281 non-null object\n",
      "门店退回时间      231281 non-null float64\n",
      "门店提交初审时间    231281 non-null float64\n",
      "终审通过时间      231281 non-null float64\n",
      "终审额度        231281 non-null float64\n",
      "放款金额        231281 non-null float64\n",
      "数据累计通次      231281 non-null float64\n",
      "数据累计接通通次    231281 non-null float64\n",
      "数据累计有效通次    231281 non-null float64\n",
      "数据累计通时      231281 non-null float64\n",
      "dtypes: float64(12), int64(2), object(9)\n",
      "memory usage: 42.3+ MB\n"
     ]
    }
   ],
   "source": [
    "df.info() # 查看数据集基本信息"
   ]
  },
  {
   "cell_type": "code",
   "execution_count": 21,
   "metadata": {},
   "outputs": [],
   "source": [
    "date_colums = ['申请时间','分配时间','门店退回时间','门店提交初审时间','终审通过时间'] # 数据类型需要转换为时间类型的列\n",
    "\n",
    "for i in date_colums: # for循环 批量修改\n",
    "    df['%s'%(i)] = pd.to_datetime(df['%s'%(i)], format ='%Y-%m-%d') # 数据类型修改为时间类型\n",
    "    \n",
    "df['数据累计通时'] = df['数据累计通时'].astype('float64') # 数据类型需要转换为浮点数的列"
   ]
  },
  {
   "cell_type": "markdown",
   "metadata": {},
   "source": [
    "# 二、数据探索"
   ]
  },
  {
   "cell_type": "code",
   "execution_count": null,
   "metadata": {},
   "outputs": [],
   "source": []
  }
 ],
 "metadata": {
  "kernelspec": {
   "display_name": "Python 3",
   "language": "python",
   "name": "python3"
  },
  "language_info": {
   "codemirror_mode": {
    "name": "ipython",
    "version": 3
   },
   "file_extension": ".py",
   "mimetype": "text/x-python",
   "name": "python",
   "nbconvert_exporter": "python",
   "pygments_lexer": "ipython3",
   "version": "3.7.3"
  }
 },
 "nbformat": 4,
 "nbformat_minor": 2
}
